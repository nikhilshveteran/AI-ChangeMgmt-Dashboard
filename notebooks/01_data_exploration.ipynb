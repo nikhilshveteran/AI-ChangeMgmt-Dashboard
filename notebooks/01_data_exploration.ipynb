# Data exploration notebook
import pandas as pd
df = pd.read_csv('../data/raw/production_output.csv')
df.describe()